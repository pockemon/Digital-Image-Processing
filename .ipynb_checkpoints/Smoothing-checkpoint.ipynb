{
 "cells": [
  {
   "cell_type": "code",
   "execution_count": 2,
   "metadata": {},
   "outputs": [],
   "source": [
    "#https://docs.opencv.org/trunk/d4/d13/tutorial_py_filtering.html\n",
    "import cv2 as cv\n",
    "import numpy as np"
   ]
  },
  {
   "cell_type": "code",
   "execution_count": 3,
   "metadata": {},
   "outputs": [],
   "source": [
    "img = cv.imread('opencv.png')\n",
    "kernel = np.ones((10,10),np.float32)/25\n",
    "dst = cv.filter2D(img,-1,kernel)\n",
    "cv.imshow('Opencv logo',img)\n",
    "cv.imshow('Blurred logo',dst)\n",
    "cv.waitKey(0)\n",
    "cv.destroyAllWindows()"
   ]
  },
  {
   "cell_type": "code",
   "execution_count": 4,
   "metadata": {},
   "outputs": [],
   "source": [
    "############################# Blurring Techniques ###############################"
   ]
  },
  {
   "cell_type": "code",
   "execution_count": 5,
   "metadata": {},
   "outputs": [],
   "source": [
    "############################ 1. Averaging ##################################"
   ]
  },
  {
   "cell_type": "code",
   "execution_count": 6,
   "metadata": {},
   "outputs": [],
   "source": [
    "img = cv.imread('opencv.png')\n",
    "blur = cv.blur(img,(5,5))\n",
    "cv.imshow('Opencv logo',img)\n",
    "cv.imshow('Blurred using Averaging',blur)\n",
    "cv.waitKey(0)\n",
    "cv.destroyAllWindows()"
   ]
  },
  {
   "cell_type": "code",
   "execution_count": 6,
   "metadata": {},
   "outputs": [],
   "source": [
    "############################ 2. Gaussian Blurring ##################################"
   ]
  },
  {
   "cell_type": "code",
   "execution_count": null,
   "metadata": {},
   "outputs": [],
   "source": [
    "img = cv.imread('opencv.png')\n",
    "blur = cv.GaussianBlur(img,(5,5),0)\n",
    "cv.imshow('Opencv logo',img)\n",
    "cv.imshow('Blurred using Gaussian filer',blur)\n",
    "cv.waitKey(0)\n",
    "cv.destroyAllWindows()"
   ]
  },
  {
   "cell_type": "code",
   "execution_count": 8,
   "metadata": {},
   "outputs": [],
   "source": [
    "############################ 3. Median Blurring ##################################"
   ]
  },
  {
   "cell_type": "code",
   "execution_count": 11,
   "metadata": {},
   "outputs": [],
   "source": [
    "img = cv.imread('salt-pepper.jpeg')\n",
    "blur = cv.medianBlur(img,5)\n",
    "cv.imshow('Opencv logo',img)\n",
    "cv.imshow('Blurred using median filer',blur)\n",
    "cv.waitKey(0)\n",
    "cv.destroyAllWindows()"
   ]
  }
 ],
 "metadata": {
  "kernelspec": {
   "display_name": "Python 3",
   "language": "python",
   "name": "python3"
  },
  "language_info": {
   "codemirror_mode": {
    "name": "ipython",
    "version": 3
   },
   "file_extension": ".py",
   "mimetype": "text/x-python",
   "name": "python",
   "nbconvert_exporter": "python",
   "pygments_lexer": "ipython3",
   "version": "3.6.5"
  }
 },
 "nbformat": 4,
 "nbformat_minor": 2
}
