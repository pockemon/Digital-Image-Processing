{
 "cells": [
  {
   "cell_type": "code",
   "execution_count": null,
   "metadata": {},
   "outputs": [],
   "source": [
    "import numpy as np\n",
    "import cv2 as cv\n",
    "from matplotlib import pyplot as plt\n",
    "\n",
    "img = cv.imread('messi.jpeg')\n",
    "edges = cv.Canny(img,100,200)\n",
    "cv.imshow('Normal image',img)\n",
    "cv.imshow('Edge-detection',edges)\n",
    "cv.waitKey(0)\n",
    "cv.destroyAllWindows()"
   ]
  },
  {
   "cell_type": "code",
   "execution_count": null,
   "metadata": {},
   "outputs": [],
   "source": [
    "####### Plotting histogram of an image\n",
    "img = cv.imread('messi.jpeg')\n",
    "hist = cv.calcHist([img],[0],None,[256],[0,256])\n",
    "#cv.imshow('Normal image',img)\n",
    "plt.plot(hist)\n",
    "plt.xlim([0,256])\n",
    "plt.show()"
   ]
  },
  {
   "cell_type": "code",
   "execution_count": null,
   "metadata": {},
   "outputs": [],
   "source": [
    "####### Histogram equilization\n",
    "img = cv.imread('messi.jpeg',0)\n",
    "equ = cv.equalizeHist(img)\n",
    "#res = np.hstack((img,equ)) #stacking images side-by-side\n",
    "cv.imshow('image1',img)\n",
    "cv.imshow('image2',equ)\n",
    "cv.waitKey(0)\n",
    "cv.destroyAllWindows()"
   ]
  }
 ],
 "metadata": {
  "kernelspec": {
   "display_name": "Python 3",
   "language": "python",
   "name": "python3"
  },
  "language_info": {
   "codemirror_mode": {
    "name": "ipython",
    "version": 3
   },
   "file_extension": ".py",
   "mimetype": "text/x-python",
   "name": "python",
   "nbconvert_exporter": "python",
   "pygments_lexer": "ipython3",
   "version": "3.6.5"
  }
 },
 "nbformat": 4,
 "nbformat_minor": 2
}
