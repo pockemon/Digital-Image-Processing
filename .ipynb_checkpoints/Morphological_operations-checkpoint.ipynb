{
 "cells": [
  {
   "cell_type": "code",
   "execution_count": 1,
   "metadata": {},
   "outputs": [],
   "source": [
    "import cv2 as cv\n",
    "import numpy as np"
   ]
  },
  {
   "cell_type": "code",
   "execution_count": 2,
   "metadata": {},
   "outputs": [],
   "source": [
    "################## Erosion #################################"
   ]
  },
  {
   "cell_type": "code",
   "execution_count": 3,
   "metadata": {},
   "outputs": [],
   "source": [
    "img = cv.imread('j.png')\n",
    "#cv2.destroyAllWindows()\n",
    "kernel = np.ones((5,5),np.uint8)\n",
    "erosion = cv.erode(img,kernel,iterations = 1)\n",
    "#cv2.imshow('image1',img)\n",
    "#cv2.imshow('image2',erosion)\n",
    "img_concate_Hori=np.concatenate((img,erosion),axis=1)\n",
    "cv.imshow('Erosion1',img_concate_Hori)\n",
    "cv.waitKey(0)\n",
    "cv.destroyAllWindows()"
   ]
  },
  {
   "cell_type": "code",
   "execution_count": 4,
   "metadata": {},
   "outputs": [],
   "source": [
    "img = cv.imread('j.png',0)\n",
    "#cv2.destroyAllWindows()\n",
    "kernel = np.ones((5,5),np.uint8)\n",
    "erosion = cv.erode(img,kernel,iterations = 2)\n",
    "#cv2.imshow('image1',img)\n",
    "#cv2.imshow('image2',erosion)\n",
    "img_concate_Hori=np.concatenate((img,erosion),axis=1)\n",
    "cv.imshow('Erosion2',img_concate_Hori)\n",
    "cv.waitKey(0)\n",
    "cv.destroyAllWindows()"
   ]
  },
  {
   "cell_type": "code",
   "execution_count": 5,
   "metadata": {},
   "outputs": [],
   "source": [
    "################### Dilation ######################"
   ]
  },
  {
   "cell_type": "code",
   "execution_count": 6,
   "metadata": {},
   "outputs": [],
   "source": [
    "img = cv.imread('j.png',0)\n",
    "kernel = np.ones((5,5),np.uint8)\n",
    "Dilate = cv.dilate(img,kernel,iterations = 1)\n",
    "#cv2.imshow('image1',img)\n",
    "#cv2.imshow('image2',erosion)\n",
    "img_concate_Hori=np.concatenate((img,Dilate),axis=1)\n",
    "cv.imshow('Dilate1',img_concate_Hori)\n",
    "cv.waitKey(0)\n",
    "cv.destroyAllWindows()"
   ]
  },
  {
   "cell_type": "code",
   "execution_count": 7,
   "metadata": {},
   "outputs": [],
   "source": [
    "img = cv.imread('j.png',0)\n",
    "kernel = np.ones((5,5),np.uint8)\n",
    "Dilate = cv.dilate(img,kernel,iterations = 2)\n",
    "#cv2.imshow('image1',img)\n",
    "#cv2.imshow('image2',erosion)\n",
    "img_concate_Hori=np.concatenate((img,Dilate),axis=1)\n",
    "cv.imshow('Dilate2',img_concate_Hori)\n",
    "cv.waitKey(0)\n",
    "cv.destroyAllWindows()"
   ]
  },
  {
   "cell_type": "code",
   "execution_count": 8,
   "metadata": {},
   "outputs": [],
   "source": [
    "#################### Opening-to remove noise in an image ###########"
   ]
  },
  {
   "cell_type": "code",
   "execution_count": 9,
   "metadata": {},
   "outputs": [],
   "source": [
    "img = cv.imread('tm.jpeg')\n",
    "kernel = np.ones((5,5),np.uint8)\n",
    "grayImage = cv.cvtColor(img, cv.COLOR_BGR2GRAY)\n",
    "(thresh, blackAndWhiteImage) = cv.threshold(grayImage, 127, 255, cv.THRESH_BINARY)\n",
    "opening = cv.morphologyEx(img, cv.MORPH_OPEN, kernel)\n",
    "#cv2.imshow('Black white image', blackAndWhiteImage)\n",
    "cv.imshow('Original image',img)\n",
    "#cv2.imshow('Gray image', grayImage)\n",
    "cv.imshow('Opening',opening)\n",
    "\n",
    "cv.waitKey(0)\n",
    "cv.destroyAllWindows()"
   ]
  },
  {
   "cell_type": "code",
   "execution_count": 10,
   "metadata": {},
   "outputs": [],
   "source": [
    "#################### Closing-for closing small holes in an image ###########"
   ]
  },
  {
   "cell_type": "code",
   "execution_count": 11,
   "metadata": {},
   "outputs": [],
   "source": [
    "img = cv.imread('closing.png')\n",
    "kernel = np.ones((14,14),np.uint8)\n",
    "grayImage = cv.cvtColor(img, cv.COLOR_BGR2GRAY)\n",
    "(thresh, blackAndWhiteImage) = cv.threshold(grayImage, 127, 255, cv.THRESH_BINARY)\n",
    "closing = cv.morphologyEx(img, cv.MORPH_CLOSE, kernel)\n",
    "#cv2.imshow('Black white image', blackAndWhiteImage)\n",
    "cv.imshow('Original image',img)\n",
    "#cv2.imshow('Gray image', grayImage)\n",
    "cv.imshow('Closing',closing)\n",
    "\n",
    "cv.waitKey(0)\n",
    "cv.destroyAllWindows()"
   ]
  },
  {
   "cell_type": "code",
   "execution_count": 12,
   "metadata": {},
   "outputs": [],
   "source": [
    "################# Difference between opening and closing ########"
   ]
  },
  {
   "cell_type": "code",
   "execution_count": 13,
   "metadata": {},
   "outputs": [],
   "source": [
    "gradient = cv.morphologyEx(img, cv.MORPH_GRADIENT, kernel)\n",
    "cv.imshow('Gradient',gradient)\n",
    "\n",
    "cv.waitKey(0)\n",
    "cv.destroyAllWindows()"
   ]
  }
 ],
 "metadata": {
  "kernelspec": {
   "display_name": "Python 3",
   "language": "python",
   "name": "python3"
  },
  "language_info": {
   "codemirror_mode": {
    "name": "ipython",
    "version": 3
   },
   "file_extension": ".py",
   "mimetype": "text/x-python",
   "name": "python",
   "nbconvert_exporter": "python",
   "pygments_lexer": "ipython3",
   "version": "3.6.5"
  }
 },
 "nbformat": 4,
 "nbformat_minor": 2
}
